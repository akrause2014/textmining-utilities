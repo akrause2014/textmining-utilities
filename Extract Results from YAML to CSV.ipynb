{
 "cells": [
  {
   "cell_type": "code",
   "execution_count": 1,
   "metadata": {
    "collapsed": true
   },
   "outputs": [],
   "source": [
    "import os\n",
    "import yaml"
   ]
  },
  {
   "cell_type": "code",
   "execution_count": 2,
   "metadata": {
    "collapsed": true
   },
   "outputs": [],
   "source": [
    "def write_row(date, article, sequence, content):\n",
    "    row = ''\n",
    "    row += str(date)\n",
    "    dirs = os.path.dirname(article['filename'])\n",
    "    path, newspaper_title = os.path.split(dirs)\n",
    "    row += ',\"{}\"'.format(newspaper_title)\n",
    "    row += ',\"{}\"'.format(article['word'])\n",
    "    row += ',{}'.format(sequence+1)\n",
    "    row += ',\"{}\"'.format(content.replace('\"','\"\"'))\n",
    "    row += ',{}'.format('English')\n",
    "    row += ',\"{}\"\\n'.format(article['title'])\n",
    "    return row"
   ]
  },
  {
   "cell_type": "code",
   "execution_count": 3,
   "metadata": {
    "collapsed": true
   },
   "outputs": [],
   "source": [
    "with open('results_krakatoa_1883', 'r') as in_file:\n",
    "    doc = yaml.load(in_file)"
   ]
  },
  {
   "cell_type": "code",
   "execution_count": 4,
   "metadata": {},
   "outputs": [],
   "source": [
    "outfile = 'results_krakatoa_1883.csv'\n",
    "\n",
    "with open(outfile, 'w') as outf:\n",
    "    outf.write('date,newspaper title,search term,sequence,text,language,article title\\n')\n",
    "    for date in doc:\n",
    "        for article in doc[date]:\n",
    "            content = article['content']\n",
    "            max_len = 32000\n",
    "            if len(content) > max_len:\n",
    "                split_content = [content[i:i+max_len] for i in range(0, len(content), max_len)]\n",
    "                for i, c in enumerate(split_content):\n",
    "                    row = write_row(date, article, i, c)\n",
    "                    outf.write(row)\n",
    "            else:\n",
    "                row = write_row(date, article, 0, content)\n",
    "                outf.write(row)"
   ]
  }
 ],
 "metadata": {
  "kernelspec": {
   "display_name": "Python 3",
   "language": "python",
   "name": "python3"
  },
  "language_info": {
   "codemirror_mode": {
    "name": "ipython",
    "version": 3
   },
   "file_extension": ".py",
   "mimetype": "text/x-python",
   "name": "python",
   "nbconvert_exporter": "python",
   "pygments_lexer": "ipython3",
   "version": "3.6.3"
  }
 },
 "nbformat": 4,
 "nbformat_minor": 2
}
